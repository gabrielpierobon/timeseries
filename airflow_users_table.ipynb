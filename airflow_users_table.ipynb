{
 "cells": [
  {
   "cell_type": "code",
   "execution_count": 1,
   "id": "f3284ce5-11bf-48e0-84f7-672baec14249",
   "metadata": {
    "tags": []
   },
   "outputs": [],
   "source": [
    "import psycopg2\n",
    "import pandas as pd\n",
    "\n",
    "# Establish the connection\n",
    "conn = psycopg2.connect(dbname='airflow', user='airflow', password='airflow', host='postgres', port='5432')\n",
    "\n",
    "# Create a cursor object\n",
    "cur = conn.cursor()\n",
    "\n",
    "# Write the SQL query\n",
    "query = \"SELECT * FROM ab_user;\"\n",
    "\n",
    "# Execute the SQL query\n",
    "cur.execute(query)\n",
    "\n",
    "# Fetch all the results\n",
    "rows = cur.fetchall()\n",
    "\n",
    "# Get the column names from the cursor description\n",
    "columns = [desc[0] for desc in cur.description]\n",
    "\n",
    "# Create a DataFrame from the rows and column names\n",
    "df = pd.DataFrame(rows, columns=columns)\n",
    "\n",
    "# Close the cursor and connection\n",
    "cur.close()\n",
    "conn.close()"
   ]
  },
  {
   "cell_type": "code",
   "execution_count": 2,
   "id": "aa574049-03ac-4c30-a5d8-71af62577be1",
   "metadata": {
    "tags": []
   },
   "outputs": [
    {
     "data": {
      "text/html": [
       "<div>\n",
       "<style scoped>\n",
       "    .dataframe tbody tr th:only-of-type {\n",
       "        vertical-align: middle;\n",
       "    }\n",
       "\n",
       "    .dataframe tbody tr th {\n",
       "        vertical-align: top;\n",
       "    }\n",
       "\n",
       "    .dataframe thead th {\n",
       "        text-align: right;\n",
       "    }\n",
       "</style>\n",
       "<table border=\"1\" class=\"dataframe\">\n",
       "  <thead>\n",
       "    <tr style=\"text-align: right;\">\n",
       "      <th></th>\n",
       "      <th>id</th>\n",
       "      <th>first_name</th>\n",
       "      <th>last_name</th>\n",
       "      <th>username</th>\n",
       "      <th>password</th>\n",
       "      <th>active</th>\n",
       "      <th>email</th>\n",
       "      <th>last_login</th>\n",
       "      <th>login_count</th>\n",
       "      <th>fail_login_count</th>\n",
       "      <th>created_on</th>\n",
       "      <th>changed_on</th>\n",
       "      <th>created_by_fk</th>\n",
       "      <th>changed_by_fk</th>\n",
       "    </tr>\n",
       "  </thead>\n",
       "  <tbody>\n",
       "    <tr>\n",
       "      <th>0</th>\n",
       "      <td>1</td>\n",
       "      <td>First</td>\n",
       "      <td>Last</td>\n",
       "      <td>admin</td>\n",
       "      <td>pbkdf2:sha256:260000$gmEHzD9KSyL50hVt$17d2e0b1...</td>\n",
       "      <td>True</td>\n",
       "      <td>admin@example.com</td>\n",
       "      <td>2023-10-10 21:57:54.583198</td>\n",
       "      <td>1</td>\n",
       "      <td>0</td>\n",
       "      <td>2023-10-10 21:57:28.665576</td>\n",
       "      <td>2023-10-10 21:57:28.665581</td>\n",
       "      <td>None</td>\n",
       "      <td>None</td>\n",
       "    </tr>\n",
       "  </tbody>\n",
       "</table>\n",
       "</div>"
      ],
      "text/plain": [
       "   id first_name last_name username  \\\n",
       "0   1      First      Last    admin   \n",
       "\n",
       "                                            password  active  \\\n",
       "0  pbkdf2:sha256:260000$gmEHzD9KSyL50hVt$17d2e0b1...    True   \n",
       "\n",
       "               email                 last_login  login_count  \\\n",
       "0  admin@example.com 2023-10-10 21:57:54.583198            1   \n",
       "\n",
       "   fail_login_count                 created_on                 changed_on  \\\n",
       "0                 0 2023-10-10 21:57:28.665576 2023-10-10 21:57:28.665581   \n",
       "\n",
       "  created_by_fk changed_by_fk  \n",
       "0          None          None  "
      ]
     },
     "execution_count": 2,
     "metadata": {},
     "output_type": "execute_result"
    }
   ],
   "source": [
    "df"
   ]
  }
 ],
 "metadata": {
  "kernelspec": {
   "display_name": "Python 3 (ipykernel)",
   "language": "python",
   "name": "python3"
  },
  "language_info": {
   "codemirror_mode": {
    "name": "ipython",
    "version": 3
   },
   "file_extension": ".py",
   "mimetype": "text/x-python",
   "name": "python",
   "nbconvert_exporter": "python",
   "pygments_lexer": "ipython3",
   "version": "3.11.6"
  }
 },
 "nbformat": 4,
 "nbformat_minor": 5
}
